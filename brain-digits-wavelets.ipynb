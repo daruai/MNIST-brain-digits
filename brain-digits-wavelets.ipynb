{
 "cells": [
  {
   "cell_type": "code",
   "execution_count": 1,
   "metadata": {},
   "outputs": [
    {
     "name": "stderr",
     "output_type": "stream",
     "text": [
      "/opt/conda/lib/python3.7/site-packages/tqdm/std.py:703: FutureWarning: The Panel class is removed from pandas. Accessing it from the top-level namespace will also be removed in the next version\n",
      "  from pandas import Panel\n"
     ]
    }
   ],
   "source": [
    "import pandas as pd\n",
    "import numpy as np\n",
    "from scipy.signal import butter, lfilter, resample, periodogram\n",
    "from tqdm.auto import tqdm\n",
    "from sklearn.preprocessing import StandardScaler\n",
    "from sklearn.model_selection import train_test_split\n",
    "\n",
    "import seaborn as sns\n",
    "import matplotlib.pyplot as plt\n",
    "\n",
    "tqdm.pandas()"
   ]
  },
  {
   "cell_type": "markdown",
   "metadata": {},
   "source": [
    "## Read data"
   ]
  },
  {
   "cell_type": "code",
   "execution_count": 3,
   "metadata": {},
   "outputs": [
    {
     "name": "stdout",
     "output_type": "stream",
     "text": [
      "<class 'pandas.core.frame.DataFrame'>\n",
      "RangeIndex: 65250 entries, 0 to 65249\n",
      "Data columns (total 7 columns):\n",
      " #   Column   Non-Null Count  Dtype \n",
      "---  ------   --------------  ----- \n",
      " 0   id       65250 non-null  int64 \n",
      " 1   event    65250 non-null  int64 \n",
      " 2   device   65250 non-null  object\n",
      " 3   channel  65250 non-null  object\n",
      " 4   code     65250 non-null  int64 \n",
      " 5   size     65250 non-null  int64 \n",
      " 6   data     65250 non-null  object\n",
      "dtypes: int64(4), object(3)\n",
      "memory usage: 3.5+ MB\n",
      "None\n"
     ]
    },
    {
     "data": {
      "text/html": [
       "<div>\n",
       "<style scoped>\n",
       "    .dataframe tbody tr th:only-of-type {\n",
       "        vertical-align: middle;\n",
       "    }\n",
       "\n",
       "    .dataframe tbody tr th {\n",
       "        vertical-align: top;\n",
       "    }\n",
       "\n",
       "    .dataframe thead th {\n",
       "        text-align: right;\n",
       "    }\n",
       "</style>\n",
       "<table border=\"1\" class=\"dataframe\">\n",
       "  <thead>\n",
       "    <tr style=\"text-align: right;\">\n",
       "      <th></th>\n",
       "      <th>id</th>\n",
       "      <th>event</th>\n",
       "      <th>device</th>\n",
       "      <th>channel</th>\n",
       "      <th>code</th>\n",
       "      <th>size</th>\n",
       "      <th>data</th>\n",
       "    </tr>\n",
       "  </thead>\n",
       "  <tbody>\n",
       "    <tr>\n",
       "      <th>0</th>\n",
       "      <td>1142043</td>\n",
       "      <td>173652</td>\n",
       "      <td>IN</td>\n",
       "      <td>AF3</td>\n",
       "      <td>0</td>\n",
       "      <td>256</td>\n",
       "      <td>4259.487179,4237.948717,4247.179487,4242.05128...</td>\n",
       "    </tr>\n",
       "    <tr>\n",
       "      <th>1</th>\n",
       "      <td>1142044</td>\n",
       "      <td>173652</td>\n",
       "      <td>IN</td>\n",
       "      <td>AF4</td>\n",
       "      <td>0</td>\n",
       "      <td>256</td>\n",
       "      <td>4103.076923,4100.512820,4102.564102,4087.69230...</td>\n",
       "    </tr>\n",
       "    <tr>\n",
       "      <th>2</th>\n",
       "      <td>1142045</td>\n",
       "      <td>173652</td>\n",
       "      <td>IN</td>\n",
       "      <td>T7</td>\n",
       "      <td>0</td>\n",
       "      <td>256</td>\n",
       "      <td>4245.128205,4218.461538,4242.051282,4245.12820...</td>\n",
       "    </tr>\n",
       "    <tr>\n",
       "      <th>3</th>\n",
       "      <td>1142046</td>\n",
       "      <td>173652</td>\n",
       "      <td>IN</td>\n",
       "      <td>T8</td>\n",
       "      <td>0</td>\n",
       "      <td>256</td>\n",
       "      <td>4208.717948,4188.717948,4204.102564,4198.46153...</td>\n",
       "    </tr>\n",
       "    <tr>\n",
       "      <th>4</th>\n",
       "      <td>1142047</td>\n",
       "      <td>173652</td>\n",
       "      <td>IN</td>\n",
       "      <td>PZ</td>\n",
       "      <td>0</td>\n",
       "      <td>256</td>\n",
       "      <td>4189.230769,4203.589743,4188.717948,4186.66666...</td>\n",
       "    </tr>\n",
       "  </tbody>\n",
       "</table>\n",
       "</div>"
      ],
      "text/plain": [
       "        id   event device channel  code  size  \\\n",
       "0  1142043  173652     IN     AF3     0   256   \n",
       "1  1142044  173652     IN     AF4     0   256   \n",
       "2  1142045  173652     IN      T7     0   256   \n",
       "3  1142046  173652     IN      T8     0   256   \n",
       "4  1142047  173652     IN      PZ     0   256   \n",
       "\n",
       "                                                data  \n",
       "0  4259.487179,4237.948717,4247.179487,4242.05128...  \n",
       "1  4103.076923,4100.512820,4102.564102,4087.69230...  \n",
       "2  4245.128205,4218.461538,4242.051282,4245.12820...  \n",
       "3  4208.717948,4188.717948,4204.102564,4198.46153...  \n",
       "4  4189.230769,4203.589743,4188.717948,4186.66666...  "
      ]
     },
     "execution_count": 3,
     "metadata": {},
     "output_type": "execute_result"
    }
   ],
   "source": [
    "PATH_DATA=\"DATA/IN.txt\"\n",
    "df=pd.read_csv(PATH_DATA,delimiter=\"\\t\",header=None,names=[\"id\",\"event\",\"device\",\"channel\",\"code\",\"size\",\"data\"])\n",
    "print(df.info())\n",
    "df.head()"
   ]
  },
  {
   "cell_type": "code",
   "execution_count": 4,
   "metadata": {},
   "outputs": [],
   "source": [
    "N_CHANNELS = df.channel.nunique()"
   ]
  },
  {
   "cell_type": "code",
   "execution_count": 5,
   "metadata": {},
   "outputs": [
    {
     "data": {
      "application/vnd.jupyter.widget-view+json": {
       "model_id": "c8d2f325cfbd4cbca217b859d475f499",
       "version_major": 2,
       "version_minor": 0
      },
      "text/plain": [
       "HBox(children=(HTML(value=''), FloatProgress(value=0.0, max=65250.0), HTML(value='')))"
      ]
     },
     "metadata": {},
     "output_type": "display_data"
    },
    {
     "name": "stdout",
     "output_type": "stream",
     "text": [
      "\n"
     ]
    }
   ],
   "source": [
    "df.data=df.data.progress_apply(lambda x: [float(i) for i in x.split(\",\")])"
   ]
  },
  {
   "cell_type": "code",
   "execution_count": 6,
   "metadata": {},
   "outputs": [
    {
     "data": {
      "application/vnd.jupyter.widget-view+json": {
       "model_id": "68cb0bf01f3a4cf7940115089158e635",
       "version_major": 2,
       "version_minor": 0
      },
      "text/plain": [
       "HBox(children=(HTML(value=''), FloatProgress(value=0.0, max=13050.0), HTML(value='')))"
      ]
     },
     "metadata": {},
     "output_type": "display_data"
    },
    {
     "name": "stdout",
     "output_type": "stream",
     "text": [
      "\n"
     ]
    }
   ],
   "source": [
    "# Resample\n",
    "\n",
    "def get_values_df(df_aux,resample_value=256):\n",
    "    df_aux=df_aux.sort_values(by=\"channel\")\n",
    "    channels_values=pd.DataFrame(dict(zip(df_aux[\"channel\"],df_aux[\"data\"]))).values.T.reshape(5,-1)\n",
    "    channels_values=resample(channels_values,resample_value,axis=1)\n",
    "    label=df_aux.code.iloc[0]\n",
    "    return pd.Series({'eeg': channels_values, 'label': label}) #https://stackoverflow.com/questions/10751127/returning-multiple-values-from-pandas-apply-on-a-dataframe\n",
    "\n",
    "df_preprocessed=df.groupby(['event']).progress_apply(lambda row: get_values_df(row)).reset_index()"
   ]
  },
  {
   "cell_type": "code",
   "execution_count": 7,
   "metadata": {},
   "outputs": [],
   "source": [
    "## Train test split\n",
    "ids_train, ids_test, y_train, y_test=train_test_split(df_preprocessed.index,df_preprocessed.label,test_size=0.2,random_state=11)\n",
    "\n",
    "df_train=df_preprocessed.loc[ids_train].reset_index(drop=True)\n",
    "df_test=df_preprocessed.loc[ids_test].reset_index(drop=True)"
   ]
  },
  {
   "cell_type": "code",
   "execution_count": 8,
   "metadata": {},
   "outputs": [
    {
     "data": {
      "text/plain": [
       "5"
      ]
     },
     "execution_count": 8,
     "metadata": {},
     "output_type": "execute_result"
    }
   ],
   "source": [
    "N_CHANNELS"
   ]
  },
  {
   "cell_type": "code",
   "execution_count": 9,
   "metadata": {},
   "outputs": [
    {
     "data": {
      "text/plain": [
       "(5, 256)"
      ]
     },
     "execution_count": 9,
     "metadata": {},
     "output_type": "execute_result"
    }
   ],
   "source": [
    "df_train.iloc[0].eeg.shape"
   ]
  },
  {
   "cell_type": "code",
   "execution_count": 10,
   "metadata": {},
   "outputs": [
    {
     "data": {
      "text/plain": [
       "(10440,)"
      ]
     },
     "execution_count": 10,
     "metadata": {},
     "output_type": "execute_result"
    }
   ],
   "source": [
    "df_train.eeg.values.shape"
   ]
  },
  {
   "cell_type": "code",
   "execution_count": 11,
   "metadata": {},
   "outputs": [
    {
     "data": {
      "application/vnd.jupyter.widget-view+json": {
       "model_id": "b367a7733aa84efc8540a98207820ada",
       "version_major": 2,
       "version_minor": 0
      },
      "text/plain": [
       "HBox(children=(HTML(value=''), FloatProgress(value=0.0, max=5.0), HTML(value='')))"
      ]
     },
     "metadata": {},
     "output_type": "display_data"
    },
    {
     "name": "stdout",
     "output_type": "stream",
     "text": [
      "\n"
     ]
    },
    {
     "data": {
      "application/vnd.jupyter.widget-view+json": {
       "model_id": "02f1d33930534cfe965af21c9161953d",
       "version_major": 2,
       "version_minor": 0
      },
      "text/plain": [
       "HBox(children=(HTML(value=''), FloatProgress(value=0.0, max=5.0), HTML(value='')))"
      ]
     },
     "metadata": {},
     "output_type": "display_data"
    },
    {
     "name": "stdout",
     "output_type": "stream",
     "text": [
      "\n"
     ]
    },
    {
     "data": {
      "text/html": [
       "<div>\n",
       "<style scoped>\n",
       "    .dataframe tbody tr th:only-of-type {\n",
       "        vertical-align: middle;\n",
       "    }\n",
       "\n",
       "    .dataframe tbody tr th {\n",
       "        vertical-align: top;\n",
       "    }\n",
       "\n",
       "    .dataframe thead th {\n",
       "        text-align: right;\n",
       "    }\n",
       "</style>\n",
       "<table border=\"1\" class=\"dataframe\">\n",
       "  <thead>\n",
       "    <tr style=\"text-align: right;\">\n",
       "      <th></th>\n",
       "      <th>event</th>\n",
       "      <th>eeg</th>\n",
       "      <th>label</th>\n",
       "      <th>channel_0</th>\n",
       "      <th>channel_1</th>\n",
       "      <th>channel_2</th>\n",
       "      <th>channel_3</th>\n",
       "      <th>channel_4</th>\n",
       "    </tr>\n",
       "  </thead>\n",
       "  <tbody>\n",
       "    <tr>\n",
       "      <th>0</th>\n",
       "      <td>180187</td>\n",
       "      <td>[[4277.948716999999, 4283.076923000001, 4276.9...</td>\n",
       "      <td>4</td>\n",
       "      <td>[-0.4089923219851625, -0.2862057300676179, -0....</td>\n",
       "      <td>[0.04114473344744017, -0.154329455598954, -0.2...</td>\n",
       "      <td>[0.3062747623582641, 0.4378076810266323, 0.419...</td>\n",
       "      <td>[0.1863917340224224, 0.33277562394364063, 0.15...</td>\n",
       "      <td>[0.4088384260938193, -0.13996454068586714, -0....</td>\n",
       "    </tr>\n",
       "    <tr>\n",
       "      <th>1</th>\n",
       "      <td>180942</td>\n",
       "      <td>[[4230.256410000001, 4240.682899890823, 4231.6...</td>\n",
       "      <td>3</td>\n",
       "      <td>[-1.4405427928577532, -1.165159712780104, -1.4...</td>\n",
       "      <td>[-1.2044239480725039, -1.000296413978728, -1.2...</td>\n",
       "      <td>[-0.9082877774632108, -0.6358048233905929, -0....</td>\n",
       "      <td>[-0.5750865363188178, -0.37494135682037233, -0...</td>\n",
       "      <td>[-1.2428119006569365, -0.34545070323173344, -0...</td>\n",
       "    </tr>\n",
       "    <tr>\n",
       "      <th>2</th>\n",
       "      <td>184457</td>\n",
       "      <td>[[4278.461537999998, 4282.051281999999, 4283.0...</td>\n",
       "      <td>6</td>\n",
       "      <td>[-0.39790037073982304, -0.30747031350815013, -...</td>\n",
       "      <td>[0.38284941789049387, 0.4404137074988624, 0.53...</td>\n",
       "      <td>[0.41008352385031177, 0.5827052362976647, 0.79...</td>\n",
       "      <td>[-0.29392531861612536, -0.07019730055196173, 0...</td>\n",
       "      <td>[0.4570617922686661, 0.4088024529963619, 0.318...</td>\n",
       "    </tr>\n",
       "    <tr>\n",
       "      <th>3</th>\n",
       "      <td>183185</td>\n",
       "      <td>[[4408.7179479999995, 4412.344190443196, 4386....</td>\n",
       "      <td>8</td>\n",
       "      <td>[2.419452563553741, 2.393888566738031, 1.96582...</td>\n",
       "      <td>[0.0631901962665517, -0.1085569932780141, -0.3...</td>\n",
       "      <td>[-0.3788630837322571, -0.4864173287364819, -0....</td>\n",
       "      <td>[-0.047909261692952024, -0.19839511426369227, ...</td>\n",
       "      <td>[-1.2789794370425693, -1.3291952455374634, -1....</td>\n",
       "    </tr>\n",
       "    <tr>\n",
       "      <th>4</th>\n",
       "      <td>180542</td>\n",
       "      <td>[[4316.923076, 4316.410256, 4302.564102000001,...</td>\n",
       "      <td>2</td>\n",
       "      <td>[0.43399517237969326, 0.40489324211479016, 0.1...</td>\n",
       "      <td>[0.08523565908562414, 0.34128983982363786, 0.1...</td>\n",
       "      <td>[0.731890694597115, 0.7276027713866248, 0.5752...</td>\n",
       "      <td>[-0.2587801806810031, 0.0193522382248035, 0.31...</td>\n",
       "      <td>[-0.04928355256691504, 0.575818494551834, 0.91...</td>\n",
       "    </tr>\n",
       "  </tbody>\n",
       "</table>\n",
       "</div>"
      ],
      "text/plain": [
       "    event                                                eeg  label  \\\n",
       "0  180187  [[4277.948716999999, 4283.076923000001, 4276.9...      4   \n",
       "1  180942  [[4230.256410000001, 4240.682899890823, 4231.6...      3   \n",
       "2  184457  [[4278.461537999998, 4282.051281999999, 4283.0...      6   \n",
       "3  183185  [[4408.7179479999995, 4412.344190443196, 4386....      8   \n",
       "4  180542  [[4316.923076, 4316.410256, 4302.564102000001,...      2   \n",
       "\n",
       "                                           channel_0  \\\n",
       "0  [-0.4089923219851625, -0.2862057300676179, -0....   \n",
       "1  [-1.4405427928577532, -1.165159712780104, -1.4...   \n",
       "2  [-0.39790037073982304, -0.30747031350815013, -...   \n",
       "3  [2.419452563553741, 2.393888566738031, 1.96582...   \n",
       "4  [0.43399517237969326, 0.40489324211479016, 0.1...   \n",
       "\n",
       "                                           channel_1  \\\n",
       "0  [0.04114473344744017, -0.154329455598954, -0.2...   \n",
       "1  [-1.2044239480725039, -1.000296413978728, -1.2...   \n",
       "2  [0.38284941789049387, 0.4404137074988624, 0.53...   \n",
       "3  [0.0631901962665517, -0.1085569932780141, -0.3...   \n",
       "4  [0.08523565908562414, 0.34128983982363786, 0.1...   \n",
       "\n",
       "                                           channel_2  \\\n",
       "0  [0.3062747623582641, 0.4378076810266323, 0.419...   \n",
       "1  [-0.9082877774632108, -0.6358048233905929, -0....   \n",
       "2  [0.41008352385031177, 0.5827052362976647, 0.79...   \n",
       "3  [-0.3788630837322571, -0.4864173287364819, -0....   \n",
       "4  [0.731890694597115, 0.7276027713866248, 0.5752...   \n",
       "\n",
       "                                           channel_3  \\\n",
       "0  [0.1863917340224224, 0.33277562394364063, 0.15...   \n",
       "1  [-0.5750865363188178, -0.37494135682037233, -0...   \n",
       "2  [-0.29392531861612536, -0.07019730055196173, 0...   \n",
       "3  [-0.047909261692952024, -0.19839511426369227, ...   \n",
       "4  [-0.2587801806810031, 0.0193522382248035, 0.31...   \n",
       "\n",
       "                                           channel_4  \n",
       "0  [0.4088384260938193, -0.13996454068586714, -0....  \n",
       "1  [-1.2428119006569365, -0.34545070323173344, -0...  \n",
       "2  [0.4570617922686661, 0.4088024529963619, 0.318...  \n",
       "3  [-1.2789794370425693, -1.3291952455374634, -1....  \n",
       "4  [-0.04928355256691504, 0.575818494551834, 0.91...  "
      ]
     },
     "execution_count": 11,
     "metadata": {},
     "output_type": "execute_result"
    }
   ],
   "source": [
    "# Standarization\n",
    "NORM_BY = \"channel\" # \"all\"\n",
    "\n",
    "if NORM_BY==\"channel\":\n",
    "    scalers=dict(zip(list(range(N_CHANNELS)),[StandardScaler() for x in range(N_CHANNELS)]))\n",
    "\n",
    "    # Fitting the scalers\n",
    "    for i in range(N_CHANNELS):\n",
    "        scalers[i].fit(np.asarray([x[i] for x in df_train.eeg.values]))\n",
    "\n",
    "    # Standarization of the data\n",
    "    for i in tqdm(range(N_CHANNELS)): \n",
    "        df_train[f\"channel_{i}\"]=list(scalers[i].transform([x[i] for x in df_train.eeg.values]))\n",
    "    \n",
    "    for i in tqdm(range(N_CHANNELS)):\n",
    "        df_test[f\"channel_{i}\"]=list(scalers[i].transform([x[i] for x in df_test.eeg.values]))\n",
    "\n",
    "df_train.head()"
   ]
  },
  {
   "cell_type": "code",
   "execution_count": 12,
   "metadata": {},
   "outputs": [
    {
     "data": {
      "application/vnd.jupyter.widget-view+json": {
       "model_id": "4eaf0664b0fc4273ba3a8f3b75a65d70",
       "version_major": 2,
       "version_minor": 0
      },
      "text/plain": [
       "HBox(children=(HTML(value=''), FloatProgress(value=0.0, max=5.0), HTML(value='')))"
      ]
     },
     "metadata": {},
     "output_type": "display_data"
    },
    {
     "data": {
      "application/vnd.jupyter.widget-view+json": {
       "model_id": "f48ecf4261ee47d38581d377f12650c0",
       "version_major": 2,
       "version_minor": 0
      },
      "text/plain": [
       "HBox(children=(HTML(value=''), FloatProgress(value=0.0, max=10440.0), HTML(value='')))"
      ]
     },
     "metadata": {},
     "output_type": "display_data"
    },
    {
     "name": "stdout",
     "output_type": "stream",
     "text": [
      "\n"
     ]
    },
    {
     "data": {
      "application/vnd.jupyter.widget-view+json": {
       "model_id": "e1327a0f97d346559358e1ccab682af1",
       "version_major": 2,
       "version_minor": 0
      },
      "text/plain": [
       "HBox(children=(HTML(value=''), FloatProgress(value=0.0, max=10440.0), HTML(value='')))"
      ]
     },
     "metadata": {},
     "output_type": "display_data"
    },
    {
     "name": "stdout",
     "output_type": "stream",
     "text": [
      "\n"
     ]
    },
    {
     "data": {
      "application/vnd.jupyter.widget-view+json": {
       "model_id": "c25af300c6ca478a902c3d570e745f08",
       "version_major": 2,
       "version_minor": 0
      },
      "text/plain": [
       "HBox(children=(HTML(value=''), FloatProgress(value=0.0, max=10440.0), HTML(value='')))"
      ]
     },
     "metadata": {},
     "output_type": "display_data"
    },
    {
     "name": "stdout",
     "output_type": "stream",
     "text": [
      "\n"
     ]
    },
    {
     "data": {
      "application/vnd.jupyter.widget-view+json": {
       "model_id": "64ad1f77a16749eba9eabaf08941196a",
       "version_major": 2,
       "version_minor": 0
      },
      "text/plain": [
       "HBox(children=(HTML(value=''), FloatProgress(value=0.0, max=10440.0), HTML(value='')))"
      ]
     },
     "metadata": {},
     "output_type": "display_data"
    },
    {
     "name": "stdout",
     "output_type": "stream",
     "text": [
      "\n"
     ]
    },
    {
     "data": {
      "application/vnd.jupyter.widget-view+json": {
       "model_id": "873632e5104645a894cc89e86e947b58",
       "version_major": 2,
       "version_minor": 0
      },
      "text/plain": [
       "HBox(children=(HTML(value=''), FloatProgress(value=0.0, max=10440.0), HTML(value='')))"
      ]
     },
     "metadata": {},
     "output_type": "display_data"
    },
    {
     "name": "stdout",
     "output_type": "stream",
     "text": [
      "\n",
      "\n"
     ]
    },
    {
     "data": {
      "application/vnd.jupyter.widget-view+json": {
       "model_id": "5215990f532748c09dc82a01dab536c5",
       "version_major": 2,
       "version_minor": 0
      },
      "text/plain": [
       "HBox(children=(HTML(value=''), FloatProgress(value=0.0, max=5.0), HTML(value='')))"
      ]
     },
     "metadata": {},
     "output_type": "display_data"
    },
    {
     "data": {
      "application/vnd.jupyter.widget-view+json": {
       "model_id": "3e2490723a314de393b185afd6ea6e21",
       "version_major": 2,
       "version_minor": 0
      },
      "text/plain": [
       "HBox(children=(HTML(value=''), FloatProgress(value=0.0, max=2610.0), HTML(value='')))"
      ]
     },
     "metadata": {},
     "output_type": "display_data"
    },
    {
     "name": "stdout",
     "output_type": "stream",
     "text": [
      "\n"
     ]
    },
    {
     "data": {
      "application/vnd.jupyter.widget-view+json": {
       "model_id": "2d2b5fb378f64588ab38c02b840c175e",
       "version_major": 2,
       "version_minor": 0
      },
      "text/plain": [
       "HBox(children=(HTML(value=''), FloatProgress(value=0.0, max=2610.0), HTML(value='')))"
      ]
     },
     "metadata": {},
     "output_type": "display_data"
    },
    {
     "name": "stdout",
     "output_type": "stream",
     "text": [
      "\n"
     ]
    },
    {
     "data": {
      "application/vnd.jupyter.widget-view+json": {
       "model_id": "bef6f2f30f9940cf8c846736c8250d8e",
       "version_major": 2,
       "version_minor": 0
      },
      "text/plain": [
       "HBox(children=(HTML(value=''), FloatProgress(value=0.0, max=2610.0), HTML(value='')))"
      ]
     },
     "metadata": {},
     "output_type": "display_data"
    },
    {
     "name": "stdout",
     "output_type": "stream",
     "text": [
      "\n"
     ]
    },
    {
     "data": {
      "application/vnd.jupyter.widget-view+json": {
       "model_id": "881b5192e6434db9922d0743bf686145",
       "version_major": 2,
       "version_minor": 0
      },
      "text/plain": [
       "HBox(children=(HTML(value=''), FloatProgress(value=0.0, max=2610.0), HTML(value='')))"
      ]
     },
     "metadata": {},
     "output_type": "display_data"
    },
    {
     "name": "stdout",
     "output_type": "stream",
     "text": [
      "\n"
     ]
    },
    {
     "data": {
      "application/vnd.jupyter.widget-view+json": {
       "model_id": "7ab0312fec5a4e59a3e812b408a3a100",
       "version_major": 2,
       "version_minor": 0
      },
      "text/plain": [
       "HBox(children=(HTML(value=''), FloatProgress(value=0.0, max=2610.0), HTML(value='')))"
      ]
     },
     "metadata": {},
     "output_type": "display_data"
    },
    {
     "name": "stdout",
     "output_type": "stream",
     "text": [
      "\n",
      "\n"
     ]
    }
   ],
   "source": [
    "# Filtering\n",
    "\n",
    "def butter_bandpass(lowcut, highcut, fs, order=5):\n",
    "    nyq = 0.5 * fs\n",
    "    low = lowcut / nyq\n",
    "    high = highcut / nyq\n",
    "    b, a = butter(order, [low, high], btype='band')\n",
    "    return b, a\n",
    "\n",
    "\n",
    "def butter_bandpass_filter(data, lowcut, highcut, fs, order=5):\n",
    "    b, a = butter_bandpass(lowcut, highcut, fs, order=order)\n",
    "    y = lfilter(b, a, data)\n",
    "    return y\n",
    "\n",
    "df_train_filtered=df_train.copy()\n",
    "df_test_filtered=df_test.copy()\n",
    "\n",
    "fs = 256/2\n",
    "\n",
    "for i in tqdm(range(N_CHANNELS)): \n",
    "    df_train_filtered[f\"channel_{i}\"]=df_train_filtered[f\"channel_{i}\"].progress_apply(butter_bandpass_filter, args=(2,40,fs,10,))\n",
    "\n",
    "for i in tqdm(range(N_CHANNELS)): \n",
    "    df_test_filtered[f\"channel_{i}\"]=df_test_filtered[f\"channel_{i}\"].progress_apply(butter_bandpass_filter, args=(2,40,fs,10,))"
   ]
  },
  {
   "cell_type": "code",
   "execution_count": 13,
   "metadata": {},
   "outputs": [
    {
     "data": {
      "text/plain": [
       "<AxesSubplot:>"
      ]
     },
     "execution_count": 13,
     "metadata": {},
     "output_type": "execute_result"
    },
    {
     "data": {
      "image/png": "[encoded data removed]",
      "text/plain": [
       "<Figure size 432x288 with 1 Axes>"
      ]
     },
     "metadata": {
      "needs_background": "light"
     },
     "output_type": "display_data"
    }
   ],
   "source": [
    "sns.lineplot(x=list(range(len(df_train.iloc[1].channel_0))),y=df_train.iloc[1].channel_0)\n",
    "sns.lineplot(x=list(range(len(df_train_filtered.iloc[1].channel_0))),y=df_train_filtered.iloc[1].channel_0)"
   ]
  },
  {
   "cell_type": "code",
   "execution_count": 14,
   "metadata": {},
   "outputs": [
    {
     "data": {
      "image/png": "[encoded data removed]",
      "text/plain": [
       "<Figure size 432x288 with 1 Axes>"
      ]
     },
     "metadata": {
      "needs_background": "light"
     },
     "output_type": "display_data"
    }
   ],
   "source": [
    "f, Pxx_den = periodogram(df_train.iloc[0].channel_0,fs)\n",
    "plt.semilogy(f, Pxx_den)\n",
    "f, Pxx_den = periodogram(df_train_filtered.iloc[0].channel_0,fs)\n",
    "plt.semilogy(f, Pxx_den)\n",
    "plt.ylim([1e-7, 1e2])\n",
    "plt.xlabel('frequency [Hz]')\n",
    "plt.ylabel('PSD [V**2/Hz]')\n",
    "plt.show()"
   ]
  },
  {
   "cell_type": "code",
   "execution_count": 102,
   "metadata": {},
   "outputs": [
    {
     "data": {
      "image/png": "[encoded data removed]",
      "text/plain": [
       "<Figure size 432x288 with 1 Axes>"
      ]
     },
     "metadata": {
      "needs_background": "light"
     },
     "output_type": "display_data"
    }
   ],
   "source": [
    "import pywt\n",
    "\n",
    "t = list(np.arange(0,2,1/256))\n",
    "sig  = df_train_filtered.iloc[3].channel_0\n",
    "widths = np.arange(1, 21)\n",
    "cwtmatr, freqs = pywt.cwt(sig, widths, 'morl')\n",
    "plt.imshow(cwtmatr, extent=[-1, 1, 1, 11], cmap='PRGn', aspect='auto',\n",
    "            vmax=abs(cwtmatr).max(), vmin=-abs(cwtmatr).max())  # doctest: +SKIP\n",
    "plt.show() # doctest: +SKIP"
   ]
  },
  {
   "cell_type": "code",
   "execution_count": 17,
   "metadata": {},
   "outputs": [],
   "source": [
    "del df_train, df_test, df"
   ]
  },
  {
   "cell_type": "code",
   "execution_count": 103,
   "metadata": {},
   "outputs": [],
   "source": [
    "def get_cwt(sig,max_width,wavelet=\"morl\"):\n",
    "    widths = np.arange(1, max_width+1)\n",
    "    cwtmatr, freqs = pywt.cwt(sig, widths, wavelet)\n",
    "    return cwtmatr"
   ]
  },
  {
   "cell_type": "code",
   "execution_count": 104,
   "metadata": {},
   "outputs": [
    {
     "data": {
      "application/vnd.jupyter.widget-view+json": {
       "model_id": "816b4682d8e1428eae001c0039c8fb04",
       "version_major": 2,
       "version_minor": 0
      },
      "text/plain": [
       "HBox(children=(HTML(value=''), FloatProgress(value=0.0, max=5.0), HTML(value='')))"
      ]
     },
     "metadata": {},
     "output_type": "display_data"
    },
    {
     "data": {
      "application/vnd.jupyter.widget-view+json": {
       "model_id": "f7bd06423f5a45c0bf676aee1799cca7",
       "version_major": 2,
       "version_minor": 0
      },
      "text/plain": [
       "HBox(children=(HTML(value=''), FloatProgress(value=0.0, max=10440.0), HTML(value='')))"
      ]
     },
     "metadata": {},
     "output_type": "display_data"
    },
    {
     "name": "stdout",
     "output_type": "stream",
     "text": [
      "\n"
     ]
    },
    {
     "data": {
      "application/vnd.jupyter.widget-view+json": {
       "model_id": "afbb440e1eaf4ddda65e3a706c7e6f02",
       "version_major": 2,
       "version_minor": 0
      },
      "text/plain": [
       "HBox(children=(HTML(value=''), FloatProgress(value=0.0, max=10440.0), HTML(value='')))"
      ]
     },
     "metadata": {},
     "output_type": "display_data"
    },
    {
     "name": "stdout",
     "output_type": "stream",
     "text": [
      "\n"
     ]
    },
    {
     "data": {
      "application/vnd.jupyter.widget-view+json": {
       "model_id": "f8e77fe00e4a47148936f62ca72e6a0b",
       "version_major": 2,
       "version_minor": 0
      },
      "text/plain": [
       "HBox(children=(HTML(value=''), FloatProgress(value=0.0, max=10440.0), HTML(value='')))"
      ]
     },
     "metadata": {},
     "output_type": "display_data"
    },
    {
     "name": "stdout",
     "output_type": "stream",
     "text": [
      "\n"
     ]
    },
    {
     "data": {
      "application/vnd.jupyter.widget-view+json": {
       "model_id": "e98c8a0b4c884dbd97c18c82a4350493",
       "version_major": 2,
       "version_minor": 0
      },
      "text/plain": [
       "HBox(children=(HTML(value=''), FloatProgress(value=0.0, max=10440.0), HTML(value='')))"
      ]
     },
     "metadata": {},
     "output_type": "display_data"
    },
    {
     "name": "stdout",
     "output_type": "stream",
     "text": [
      "\n"
     ]
    },
    {
     "data": {
      "application/vnd.jupyter.widget-view+json": {
       "model_id": "b17eaf4d14c74883a23a092c53216959",
       "version_major": 2,
       "version_minor": 0
      },
      "text/plain": [
       "HBox(children=(HTML(value=''), FloatProgress(value=0.0, max=10440.0), HTML(value='')))"
      ]
     },
     "metadata": {},
     "output_type": "display_data"
    },
    {
     "name": "stdout",
     "output_type": "stream",
     "text": [
      "\n",
      "\n"
     ]
    },
    {
     "data": {
      "application/vnd.jupyter.widget-view+json": {
       "model_id": "dd3d2dc99cef412c9802f8d40ee20fa5",
       "version_major": 2,
       "version_minor": 0
      },
      "text/plain": [
       "HBox(children=(HTML(value=''), FloatProgress(value=0.0, max=5.0), HTML(value='')))"
      ]
     },
     "metadata": {},
     "output_type": "display_data"
    },
    {
     "data": {
      "application/vnd.jupyter.widget-view+json": {
       "model_id": "ff03c9b652154f5e890d478e5ad5dff3",
       "version_major": 2,
       "version_minor": 0
      },
      "text/plain": [
       "HBox(children=(HTML(value=''), FloatProgress(value=0.0, max=2610.0), HTML(value='')))"
      ]
     },
     "metadata": {},
     "output_type": "display_data"
    },
    {
     "name": "stdout",
     "output_type": "stream",
     "text": [
      "\n"
     ]
    },
    {
     "data": {
      "application/vnd.jupyter.widget-view+json": {
       "model_id": "47a1b35db7bd4a01aa8fd53960ffd78b",
       "version_major": 2,
       "version_minor": 0
      },
      "text/plain": [
       "HBox(children=(HTML(value=''), FloatProgress(value=0.0, max=2610.0), HTML(value='')))"
      ]
     },
     "metadata": {},
     "output_type": "display_data"
    },
    {
     "name": "stdout",
     "output_type": "stream",
     "text": [
      "\n"
     ]
    },
    {
     "data": {
      "application/vnd.jupyter.widget-view+json": {
       "model_id": "9c3f75e8edd9449cb579e6a97339ba83",
       "version_major": 2,
       "version_minor": 0
      },
      "text/plain": [
       "HBox(children=(HTML(value=''), FloatProgress(value=0.0, max=2610.0), HTML(value='')))"
      ]
     },
     "metadata": {},
     "output_type": "display_data"
    },
    {
     "name": "stdout",
     "output_type": "stream",
     "text": [
      "\n"
     ]
    },
    {
     "data": {
      "application/vnd.jupyter.widget-view+json": {
       "model_id": "78eaf8eeb1e84172843bb00da75902c8",
       "version_major": 2,
       "version_minor": 0
      },
      "text/plain": [
       "HBox(children=(HTML(value=''), FloatProgress(value=0.0, max=2610.0), HTML(value='')))"
      ]
     },
     "metadata": {},
     "output_type": "display_data"
    },
    {
     "name": "stdout",
     "output_type": "stream",
     "text": [
      "\n"
     ]
    },
    {
     "data": {
      "application/vnd.jupyter.widget-view+json": {
       "model_id": "3333ee3684524b99a2de621210de30e2",
       "version_major": 2,
       "version_minor": 0
      },
      "text/plain": [
       "HBox(children=(HTML(value=''), FloatProgress(value=0.0, max=2610.0), HTML(value='')))"
      ]
     },
     "metadata": {},
     "output_type": "display_data"
    },
    {
     "name": "stdout",
     "output_type": "stream",
     "text": [
      "\n",
      "\n"
     ]
    }
   ],
   "source": [
    "WAVELET_MAX_WIDTH=20\n",
    "for i in tqdm(range(N_CHANNELS)): \n",
    "    df_train_filtered[f\"wav_channel_{i}\"]=df_train_filtered[f\"channel_{i}\"].progress_apply(get_cwt, args=(WAVELET_MAX_WIDTH,))\n",
    "\n",
    "for i in tqdm(range(N_CHANNELS)): \n",
    "    df_test_filtered[f\"wav_channel_{i}\"]=df_test_filtered[f\"channel_{i}\"].progress_apply(get_cwt, args=(WAVELET_MAX_WIDTH,))"
   ]
  },
  {
   "cell_type": "code",
   "execution_count": 105,
   "metadata": {},
   "outputs": [],
   "source": [
    "from torch.utils.data import Dataset, DataLoader\n",
    "import torch\n",
    "\n",
    "class BrainMNISTDataset(Dataset):\n",
    "    \"\"\"Brain MNIST dataset.\"\"\"\n",
    "\n",
    "    def __init__(self, df):\n",
    "        \"\"\"\n",
    "        Args:\n",
    "            df (pd.DataFrame): DataFrame with data\n",
    "            transform (callable, optional): Optional transform to be applied\n",
    "                on a sample.\n",
    "        \"\"\"\n",
    "        self.eeg_frame = df\n",
    "\n",
    "    def __len__(self):\n",
    "        return len(self.eeg_frame)\n",
    "\n",
    "    def __getitem__(self, idx):\n",
    "        return {\n",
    "            \"x\": torch.tensor(np.stack(self.eeg_frame.loc[idx][[f\"wav_channel_{i}\" for i in range(N_CHANNELS)]].values),\n",
    "                              dtype=torch.float),\n",
    "            \"y\":torch.tensor(self.eeg_frame.loc[idx].label,dtype=torch.long)#torch.tensor(np.eye(10)[self.eeg_frame.loc[idx].label],dtype=torch.long),\n",
    "        }"
   ]
  },
  {
   "cell_type": "code",
   "execution_count": 106,
   "metadata": {},
   "outputs": [
    {
     "name": "stdout",
     "output_type": "stream",
     "text": [
      "torch.Size([5, 20, 256])\n",
      "torch.Size([5, 20, 256])\n",
      "torch.Size([5, 20, 256])\n",
      "torch.Size([5, 20, 256])\n",
      "torch.Size([5, 20, 256])\n"
     ]
    }
   ],
   "source": [
    "eeg_dataset = BrainMNISTDataset(df=df_train_filtered)\n",
    "\n",
    "for i in range(len(eeg_dataset)):\n",
    "    sample = eeg_dataset[i]\n",
    "    print(sample[\"x\"].shape)\n",
    "    if i>3: break"
   ]
  },
  {
   "cell_type": "code",
   "execution_count": 107,
   "metadata": {},
   "outputs": [],
   "source": [
    "## Train and test dataloaders\n",
    "trainloader = DataLoader(BrainMNISTDataset(df=df_train_filtered), batch_size=32, shuffle=True, num_workers=0)\n",
    "evalloader = DataLoader(BrainMNISTDataset(df=df_test_filtered), batch_size=32, shuffle=False, num_workers=0)"
   ]
  },
  {
   "cell_type": "code",
   "execution_count": 108,
   "metadata": {
    "tags": []
   },
   "outputs": [
    {
     "name": "stdout",
     "output_type": "stream",
     "text": [
      "0 torch.Size([32, 5, 20, 256]) torch.Size([32])\n",
      "1 torch.Size([32, 5, 20, 256]) torch.Size([32])\n",
      "2 torch.Size([32, 5, 20, 256]) torch.Size([32])\n",
      "3 torch.Size([32, 5, 20, 256]) torch.Size([32])\n",
      "4 torch.Size([32, 5, 20, 256]) torch.Size([32])\n",
      "5 torch.Size([32, 5, 20, 256]) torch.Size([32])\n",
      "6 torch.Size([32, 5, 20, 256]) torch.Size([32])\n",
      "7 torch.Size([32, 5, 20, 256]) torch.Size([32])\n",
      "8 torch.Size([32, 5, 20, 256]) torch.Size([32])\n",
      "9 torch.Size([32, 5, 20, 256]) torch.Size([32])\n",
      "10 torch.Size([32, 5, 20, 256]) torch.Size([32])\n",
      "11 torch.Size([32, 5, 20, 256]) torch.Size([32])\n"
     ]
    }
   ],
   "source": [
    "for i_batch, sample_batched in enumerate(trainloader):\n",
    "    print(i_batch, sample_batched[\"x\"].size(), sample_batched[\"y\"].size())\n",
    "    if i_batch > 10: break"
   ]
  },
  {
   "cell_type": "code",
   "execution_count": 109,
   "metadata": {},
   "outputs": [],
   "source": [
    "import torch.nn as nn\n",
    "import torch.nn.functional as F\n",
    "import pytorch_lightning as pl\n",
    "\n",
    "\n",
    "class Net(pl.LightningModule):\n",
    "    def __init__(self, n_classes=10, debug=False):\n",
    "        super(Net, self).__init__()\n",
    "        self.debug=debug\n",
    "        self.n_classes=n_classes\n",
    "        self.n_channels=N_CHANNELS\n",
    "        self.wavelet_max_width=WAVELET_MAX_WIDTH\n",
    "        self.seq_length=SEQ_LENGTH\n",
    "\n",
    "        self.conv1 = nn.Conv2d(self.n_channels, 32, 2)\n",
    "        self.pool = nn.MaxPool2d(2, 2)\n",
    "        self.conv2 = nn.Conv2d(32, 64, 2)\n",
    "        self.fc1 = nn.Linear(64*int((int((self.seq_length-2+1)/2)-2+1)/2)*int((int((self.wavelet_max_width-2+1)/2)-2+1)/2), 32)\n",
    "        self.fc2 = nn.Linear(32, 16)\n",
    "        self.fc3 = nn.Linear(16, self.n_classes)\n",
    "\n",
    "        self.accuracy = pl.metrics.Accuracy()\n",
    "\n",
    "\n",
    "    def forward(self, x):\n",
    "        x = self.pool(F.relu(self.conv1(x)))\n",
    "        if self.debug: print(\"conv1 -> relu -> pool: \",x.shape)\n",
    "        x = self.pool(F.relu(self.conv2(x)))\n",
    "        if self.debug: print(\"conv2 -> relu -> pool: \",x.shape)\n",
    "        x = x.view(-1, 64*int((int((self.seq_length-2+1)/2)-2+1)/2)*int((int((self.wavelet_max_width-2+1)/2)-2+1)/2))\n",
    "        if self.debug: print(\"flatten \",x.shape)\n",
    "        x = F.relu(self.fc1(x))\n",
    "        if self.debug: print(\"fc1 -> relu: \",x.shape)\n",
    "        x = F.relu(self.fc2(x))\n",
    "        if self.debug: print(\"fc2 -> relu: \",x.shape)\n",
    "        x = self.fc3(x)\n",
    "        if self.debug: print(\"out: \",x.shape)\n",
    "        return x\n",
    "\n",
    "    def loss_fn(self,out,target):\n",
    "        return nn.CrossEntropyLoss()(out.view(-1,self.n_classes),target)\n",
    "    \n",
    "    def configure_optimizers(self):\n",
    "        LR = 1e-3\n",
    "        optimizer = torch.optim.AdamW(self.parameters(),lr=LR)\n",
    "        return optimizer\n",
    "\n",
    "    def training_step(self,batch,batch_idx):\n",
    "        x,y = batch[\"x\"],batch[\"y\"]\n",
    "        img = x.view(-1,self.n_channels,self.wavelet_max_width,self.seq_length)\n",
    "        label = y.view(-1)\n",
    "        #print(label)\n",
    "        out = self(img)\n",
    "        loss = self.loss_fn(out,label)\n",
    "        self.log('train_loss', loss)\n",
    "        return loss\n",
    "\n",
    "    def validation_step(self,batch,batch_idx):\n",
    "        x,y = batch[\"x\"],batch[\"y\"]\n",
    "        img = x.view(-1,self.n_channels,self.wavelet_max_width,self.seq_length)\n",
    "        label = y.view(-1)\n",
    "        out = self(img)\n",
    "        loss = self.loss_fn(out,label)\n",
    "        out = nn.Softmax(-1)(out) \n",
    "        logits = torch.argmax(out,dim=1)\n",
    "        accu = self.accuracy(logits, label)        \n",
    "        self.log('valid_loss', loss)\n",
    "        self.log('train_acc_step', accu)\n",
    "        return loss, accu\n",
    "\n",
    "\n",
    "checkpoint_callback = pl.callbacks.ModelCheckpoint(\n",
    "    monitor='valid_loss',\n",
    "    dirpath='./model/',\n",
    "    filename='models-{epoch:02d}-{valid_loss:.2f}',\n",
    "    save_top_k=3,\n",
    "    mode='min') \n",
    "\n",
    "class BrainMNISTLightDataset(pl.LightningDataModule):\n",
    "    def __init__(self, df_train, df_val, batch_size=32):\n",
    "        super().__init__()\n",
    "        self.batch_size = batch_size\n",
    "        self.df_train = df_train\n",
    "        self.df_val = df_val\n",
    "    \n",
    "    def setup(self, stage=None):\n",
    "        self.train_dataset = BrainMNISTDataset(df=self.df_train)\n",
    "        self.validation_dataset = BrainMNISTDataset(df=self.df_val)\n",
    "\n",
    "    def train_dataloader(self):\n",
    "        train_loader = DataLoader(self.train_dataset,\n",
    "                            batch_size=self.batch_size,\n",
    "                            shuffle=True)\n",
    "        return train_loader\n",
    "\n",
    "    def val_dataloader(self):\n",
    "        valid_loader = DataLoader(self.validation_dataset,\n",
    "                            batch_size=self.batch_size,\n",
    "                            shuffle=False)       \n",
    "        return valid_loader\n"
   ]
  },
  {
   "cell_type": "code",
   "execution_count": 110,
   "metadata": {},
   "outputs": [
    {
     "name": "stderr",
     "output_type": "stream",
     "text": [
      "GPU available: False, used: False\n",
      "TPU available: None, using: 0 TPU cores\n",
      "\n",
      "  | Name     | Type      | Params\n",
      "---------------------------------------\n",
      "0 | conv1    | Conv2d    | 672   \n",
      "1 | pool     | MaxPool2d | 0     \n",
      "2 | conv2    | Conv2d    | 8.3 K \n",
      "3 | fc1      | Linear    | 516 K \n",
      "4 | fc2      | Linear    | 528   \n",
      "5 | fc3      | Linear    | 170   \n",
      "6 | accuracy | Accuracy  | 0     \n",
      "---------------------------------------\n",
      "525 K     Trainable params\n",
      "0         Non-trainable params\n",
      "525 K     Total params\n"
     ]
    },
    {
     "data": {
      "application/vnd.jupyter.widget-view+json": {
       "model_id": "024458b0aa2444a4b306d347f45f6a78",
       "version_major": 2,
       "version_minor": 0
      },
      "text/plain": [
       "HBox(children=(HTML(value='Training'), FloatProgress(value=1.0, bar_style='info', layout=Layout(flex='2'), max…"
      ]
     },
     "metadata": {},
     "output_type": "display_data"
    },
    {
     "data": {
      "application/vnd.jupyter.widget-view+json": {
       "model_id": "",
       "version_major": 2,
       "version_minor": 0
      },
      "text/plain": [
       "HBox(children=(HTML(value='Validating'), FloatProgress(value=1.0, bar_style='info', layout=Layout(flex='2'), m…"
      ]
     },
     "metadata": {},
     "output_type": "display_data"
    },
    {
     "data": {
      "application/vnd.jupyter.widget-view+json": {
       "model_id": "",
       "version_major": 2,
       "version_minor": 0
      },
      "text/plain": [
       "HBox(children=(HTML(value='Validating'), FloatProgress(value=1.0, bar_style='info', layout=Layout(flex='2'), m…"
      ]
     },
     "metadata": {},
     "output_type": "display_data"
    },
    {
     "data": {
      "application/vnd.jupyter.widget-view+json": {
       "model_id": "",
       "version_major": 2,
       "version_minor": 0
      },
      "text/plain": [
       "HBox(children=(HTML(value='Validating'), FloatProgress(value=1.0, bar_style='info', layout=Layout(flex='2'), m…"
      ]
     },
     "metadata": {},
     "output_type": "display_data"
    },
    {
     "data": {
      "application/vnd.jupyter.widget-view+json": {
       "model_id": "",
       "version_major": 2,
       "version_minor": 0
      },
      "text/plain": [
       "HBox(children=(HTML(value='Validating'), FloatProgress(value=1.0, bar_style='info', layout=Layout(flex='2'), m…"
      ]
     },
     "metadata": {},
     "output_type": "display_data"
    },
    {
     "data": {
      "application/vnd.jupyter.widget-view+json": {
       "model_id": "",
       "version_major": 2,
       "version_minor": 0
      },
      "text/plain": [
       "HBox(children=(HTML(value='Validating'), FloatProgress(value=1.0, bar_style='info', layout=Layout(flex='2'), m…"
      ]
     },
     "metadata": {},
     "output_type": "display_data"
    },
    {
     "data": {
      "application/vnd.jupyter.widget-view+json": {
       "model_id": "",
       "version_major": 2,
       "version_minor": 0
      },
      "text/plain": [
       "HBox(children=(HTML(value='Validating'), FloatProgress(value=1.0, bar_style='info', layout=Layout(flex='2'), m…"
      ]
     },
     "metadata": {},
     "output_type": "display_data"
    },
    {
     "name": "stdout",
     "output_type": "stream",
     "text": [
      "\n"
     ]
    },
    {
     "data": {
      "text/plain": [
       "1"
      ]
     },
     "execution_count": 110,
     "metadata": {},
     "output_type": "execute_result"
    }
   ],
   "source": [
    "SEQ_LENGTH=256\n",
    "\n",
    "mod = Net()\n",
    "dx = BrainMNISTLightDataset(df_train_filtered, df_test_filtered)\n",
    "trainer = pl.Trainer(max_epochs=6,callbacks=[checkpoint_callback],num_sanity_val_steps=0)\n",
    "trainer.fit(model=mod,datamodule=dx) "
   ]
  },
  {
   "cell_type": "code",
   "execution_count": 69,
   "metadata": {},
   "outputs": [
    {
     "data": {
      "text/plain": [
       "1"
      ]
     },
     "execution_count": 69,
     "metadata": {},
     "output_type": "execute_result"
    }
   ],
   "source": [
    "trainer.test(test_dataloaders=evalloader)"
   ]
  },
  {
   "cell_type": "code",
   "execution_count": 111,
   "metadata": {},
   "outputs": [
    {
     "data": {
      "application/vnd.jupyter.widget-view+json": {
       "model_id": "c389ce224e1847c69b5a0ecd29cd3145",
       "version_major": 2,
       "version_minor": 0
      },
      "text/plain": [
       "HBox(children=(HTML(value=''), FloatProgress(value=1.0, bar_style='info', layout=Layout(width='20px'), max=1.0…"
      ]
     },
     "metadata": {},
     "output_type": "display_data"
    },
    {
     "name": "stderr",
     "output_type": "stream",
     "text": [
      "/opt/conda/lib/python3.7/site-packages/ipykernel_launcher.py:10: UserWarning: Implicit dimension choice for softmax has been deprecated. Change the call to include dim=X as an argument.\n",
      "  # Remove the CWD from sys.path while we load stuff.\n"
     ]
    },
    {
     "name": "stdout",
     "output_type": "stream",
     "text": [
      "\n"
     ]
    }
   ],
   "source": [
    "model = Net.load_from_checkpoint(\"model/models-epoch=03-valid_loss=2.30.ckpt\")\n",
    "\n",
    "predictions=[]\n",
    "gt=[]\n",
    "\n",
    "evalloader = DataLoader(BrainMNISTDataset(df=df_test_filtered), batch_size=1, shuffle=False, num_workers=0)\n",
    "\n",
    "for i_batch, sample_batched in tqdm(enumerate(evalloader)):\n",
    "    #print(i_batch, sample_batched[\"x\"].size(), sample_batched[\"y\"].size())\n",
    "    predictions.append(np.argmax(nn.functional.softmax(model(sample_batched[\"x\"])).detach().numpy()))\n",
    "    gt.append(sample_batched[\"y\"].detach().numpy()[0])"
   ]
  },
  {
   "cell_type": "code",
   "execution_count": 112,
   "metadata": {},
   "outputs": [
    {
     "name": "stdout",
     "output_type": "stream",
     "text": [
      "              precision    recall  f1-score   support\n",
      "\n",
      "           0       0.00      0.00      0.00       270\n",
      "           1       0.00      0.00      0.00       260\n",
      "           2       0.30      0.01      0.02       267\n",
      "           3       0.00      0.00      0.00       271\n",
      "           4       0.09      0.08      0.08       256\n",
      "           5       0.15      0.02      0.03       261\n",
      "           6       0.00      0.00      0.00       267\n",
      "           7       0.25      0.00      0.01       238\n",
      "           8       0.10      0.77      0.17       260\n",
      "           9       0.12      0.11      0.12       260\n",
      "\n",
      "    accuracy                           0.10      2610\n",
      "   macro avg       0.10      0.10      0.04      2610\n",
      "weighted avg       0.10      0.10      0.04      2610\n",
      "\n"
     ]
    }
   ],
   "source": [
    "from sklearn.metrics import classification_report\n",
    "\n",
    "print(classification_report(gt, predictions))"
   ]
  }
 ],
 "metadata": {
  "environment": {
   "name": "tf2-2-3-gpu.2-3.m59",
   "type": "gcloud",
   "uri": "gcr.io/deeplearning-platform-release/tf2-2-3-gpu.2-3:m59"
  },
  "kernelspec": {
   "display_name": "Python 3",
   "language": "python",
   "name": "python3"
  },
  "language_info": {
   "codemirror_mode": {
    "name": "ipython",
    "version": 3
   },
   "file_extension": ".py",
   "mimetype": "text/x-python",
   "name": "python",
   "nbconvert_exporter": "python",
   "pygments_lexer": "ipython3",
   "version": "3.7.8"
  }
 },
 "nbformat": 4,
 "nbformat_minor": 4
}
